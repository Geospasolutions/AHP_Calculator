{
 "cells": [
  {
   "cell_type": "code",
   "execution_count": 3,
   "id": "159070a7",
   "metadata": {},
   "outputs": [],
   "source": [
    "from ahp_calculator import ahp_calculator "
   ]
  },
  {
   "cell_type": "code",
   "execution_count": 5,
   "id": "aedf412b",
   "metadata": {},
   "outputs": [
    {
     "data": {
      "text/html": [
       "<style>\n",
       "        .params_label { background: rgba(0,0,0,0.1); text-align:center;}\n",
       "        .calculate_button { color: green; margin-top:20px;}\n",
       "        </style>"
      ],
      "text/plain": [
       "<IPython.core.display.HTML object>"
      ]
     },
     "metadata": {},
     "output_type": "display_data"
    },
    {
     "data": {
      "application/vnd.jupyter.widget-view+json": {
       "model_id": "bffb2660e4c34b67901aac492f911fc9",
       "version_major": 2,
       "version_minor": 0
      },
      "text/plain": [
       "VBox(children=(Label(value='Enter all params in comma seperated form. eg: River,Road,Settlement'), HBox(childr…"
      ]
     },
     "metadata": {},
     "output_type": "display_data"
    }
   ],
   "source": [
    "from ahp_calculator import ahp_calculator \n",
    "\n",
    "AC=ahp_calculator()\n",
    "AC.open_calculator()"
   ]
  },
  {
   "cell_type": "code",
   "execution_count": null,
   "id": "df320923",
   "metadata": {},
   "outputs": [],
   "source": []
  }
 ],
 "metadata": {
  "kernelspec": {
   "display_name": "Python 3 (ipykernel)",
   "language": "python",
   "name": "python3"
  },
  "language_info": {
   "codemirror_mode": {
    "name": "ipython",
    "version": 3
   },
   "file_extension": ".py",
   "mimetype": "text/x-python",
   "name": "python",
   "nbconvert_exporter": "python",
   "pygments_lexer": "ipython3",
   "version": "3.8.12"
  }
 },
 "nbformat": 4,
 "nbformat_minor": 5
}
